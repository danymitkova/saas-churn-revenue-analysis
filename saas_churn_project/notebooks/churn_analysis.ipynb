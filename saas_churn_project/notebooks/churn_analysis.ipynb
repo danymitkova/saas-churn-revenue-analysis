{
 "cells": [
  {
   "cell_type": "markdown",
   "id": "4c5d04a8",
   "metadata": {},
   "source": [
    "# Churn Prediction & Revenue Impact\n",
    "Synthetic SaaS dataset"
   ]
  },
  {
   "cell_type": "code",
   "execution_count": null,
   "id": "c876bbb2",
   "metadata": {},
   "outputs": [],
   "source": [
    "import pandas as pd, matplotlib.pyplot as plt\n",
    "from sklearn.model_selection import train_test_split\n",
    "from sklearn.linear_model import LogisticRegression\n",
    "from sklearn.metrics import roc_auc_score, classification_report\n",
    "\n",
    "customers = pd.read_csv('../data/raw/customers.csv')\n",
    "events = pd.read_csv('../data/raw/events.csv')\n",
    "\n",
    "# Feature: total events per customer\n",
    "event_counts = events.groupby('customer_id').size().reset_index(name='event_count')\n",
    "df = customers.merge(event_counts, on='customer_id', how='left').fillna({'event_count':0})\n",
    "\n",
    "# Encode plan\n",
    "df = pd.get_dummies(df, columns=['plan'], drop_first=True)\n",
    "\n",
    "X = df[['event_count','plan_Pro','plan_Enterprise']]\n",
    "y = df['is_churned']\n",
    "\n",
    "X_train, X_test, y_train, y_test = train_test_split(X, y, test_size=0.2, random_state=42)\n",
    "model = LogisticRegression(max_iter=200)\n",
    "model.fit(X_train, y_train)\n",
    "y_pred = model.predict_proba(X_test)[:,1]\n",
    "\n",
    "print('AUC:', roc_auc_score(y_test, y_pred))\n",
    "print(classification_report(y_test, (y_pred>0.5).astype(int)))\n",
    "\n",
    "# Revenue impact curve\n",
    "thresholds = [0.2, 0.3, 0.4, 0.5, 0.6]\n",
    "impact = []\n",
    "for t in thresholds:\n",
    "    retained = df.loc[y_pred < t]\n",
    "    saved_rev = retained['event_count'].sum()*1  # placeholder\n",
    "    impact.append(saved_rev)\n",
    "\n",
    "plt.plot(thresholds, impact)\n",
    "plt.xlabel('Churn Probability Threshold')\n",
    "plt.ylabel('Potential Revenue Saved')\n",
    "plt.title('Revenue Impact vs Retention Strategy')\n",
    "plt.show()"
   ]
  }
 ],
 "metadata": {},
 "nbformat": 4,
 "nbformat_minor": 5
}
